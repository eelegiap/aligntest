{
 "cells": [
  {
   "cell_type": "code",
   "execution_count": 1,
   "metadata": {},
   "outputs": [],
   "source": [
    "import nltk"
   ]
  },
  {
   "cell_type": "code",
   "execution_count": 9,
   "metadata": {},
   "outputs": [],
   "source": [
    "with open('akeng.txt', 'r') as f:\n",
    "    engtext = f.read()\n",
    "    \n",
    "with open('akrus.txt', 'r') as f:\n",
    "    rustext = f.read()"
   ]
  },
  {
   "cell_type": "code",
   "execution_count": 13,
   "metadata": {},
   "outputs": [],
   "source": [
    "russents = nltk.sent_tokenize(rustext)\n",
    "engsents = nltk.sent_tokenize(engtext)"
   ]
  },
  {
   "cell_type": "code",
   "execution_count": 16,
   "metadata": {},
   "outputs": [
    {
     "name": "stdout",
     "output_type": "stream",
     "text": [
      "Chapter 1\n",
      "Happy families are all alike; every unhappy family is unhappy in its own way.\n",
      "\n",
      "Everything was in confusion in the Oblonskys’ house.\n",
      "\n",
      "The wife had discovered that the husband was carrying on an intrigue with a French girl, who had been a governess in their family, and she had announced to her husband that she could not go on living in the same house with him.\n",
      "\n",
      "This position of affairs had now lasted three days, and not only the husband and wife themselves, but all the members of their family and household, were painfully conscious of it.\n",
      "\n",
      "Every person in the house felt that there was no sense in their living together, and that the stray people brought together by chance in any inn had more in common with one another than they, the members of the family and household of the Oblonskys.\n",
      "\n"
     ]
    }
   ],
   "source": [
    "for s in engsents[:5]:\n",
    "    print(s)\n",
    "    print()"
   ]
  },
  {
   "cell_type": "code",
   "execution_count": 19,
   "metadata": {},
   "outputs": [],
   "source": [
    "with open('source.txt','w') as f:\n",
    "    f.write('\\n'.join(russents))"
   ]
  },
  {
   "cell_type": "code",
   "execution_count": 20,
   "metadata": {},
   "outputs": [],
   "source": [
    "with open('target.txt','w') as f:\n",
    "    f.write('\\n'.join(engsents))"
   ]
  },
  {
   "cell_type": "code",
   "execution_count": 21,
   "metadata": {},
   "outputs": [],
   "source": [
    "### check alignment"
   ]
  },
  {
   "cell_type": "code",
   "execution_count": 22,
   "metadata": {},
   "outputs": [],
   "source": [
    "with open('alignedsource.txt','r') as f:\n",
    "    asource = f.read().split('\\n')"
   ]
  },
  {
   "cell_type": "code",
   "execution_count": 24,
   "metadata": {},
   "outputs": [],
   "source": [
    "with open('alignedtarget.txt','r') as f:\n",
    "    atarget = f.read().split('\\n')"
   ]
  },
  {
   "cell_type": "code",
   "execution_count": 25,
   "metadata": {},
   "outputs": [
    {
     "data": {
      "text/plain": [
       "(41, 41)"
      ]
     },
     "execution_count": 25,
     "metadata": {},
     "output_type": "execute_result"
    }
   ],
   "source": [
    "len(asource), len(atarget)"
   ]
  },
  {
   "cell_type": "code",
   "execution_count": 26,
   "metadata": {},
   "outputs": [
    {
     "name": "stdout",
     "output_type": "stream",
     "text": [
      "I\n",
      "\t Chapter 1\n",
      "\n",
      "Все счастливые семьи похожи друг на друга, каждая несчастливая семья несчастлива по-своему.\n",
      "\t Happy families are all alike; every unhappy family is unhappy in its own way.\n",
      "\n",
      "Все смешалось в доме Облонских.\n",
      "\t Everything was in confusion in the Oblonskys’ house.\n",
      "\n",
      "Жена узнала, что муж был в связи с бывшею в их доме француженкою-гувернанткой, и объявила мужу, что не может жить с ним в одном доме.\n",
      "\t The wife had discovered that the husband was carrying on an intrigue with a French girl, who had been a governess in their family, and she had announced to her husband that she could not go on living in the same house with him.\n",
      "\n",
      "Положение это продолжалось уже третий день и мучительно чувствовалось и самими супругами, и всеми членами семьи, и домочадцами.\n",
      "\t This position of affairs had now lasted three days, and not only the husband and wife themselves, but all the members of their family and household, were painfully conscious of it.\n",
      "\n",
      "Все члены семьи и домочадцы чувствовали, что нет смысла в их сожительстве и что на каждом постоялом дворе случайно сошедшиеся люди более связаны между собой, чем они, члены семьи и домочадцы Облонских.\n",
      "\t Every person in the house felt that there was no sense in their living together, and that the stray people brought together by chance in any inn had more in common with one another than they, the members of the family and household of the Oblonskys.\n",
      "\n",
      "Жена не выходила из своих комнат, мужа третий день не было дома.\n",
      "\t The wife did not leave her own room, the husband had not been at home for three days.\n",
      "\n",
      "Дети бегали по всему дому, как потерянные; англичанка поссорилась с экономкой и написала записку приятельнице, прося приискать ей новое место; повар ушел вчера со двора, во время самого обеда; черная кухарка и кучер просили расчета.\n",
      "\t The children ran wild all over the house; the English governess quarreled with the housekeeper, and wrote to a friend asking her to look out for a new situation for her; the man-cook had walked off the day before just at dinner time; the kitchen-maid, and the coachman had given warning.\n",
      "\n",
      "На третий день после ссоры князь Степан Аркадьич Облонский — Стива, как его звали в свете, — в обычный час, то есть в восемь часов утра, проснулся не в спальне жены, а в своем кабинете, на сафьянном диване.\n",
      "\t Three days after the quarrel, Prince Stepan Arkadyevitch Oblonsky—Stiva, as he was called in the fashionable world—woke up at his usual hour, that is, at eight o’clock in the morning, not in his wife’s bedroom, but on the leather-covered sofa in his study.\n",
      "\n",
      "Он повернул свое полное, выхоленное тело на пружинах дивана, как бы желая опять заснуть надолго, с другой стороны крепко обнял подушку и прижался к ней щекой; но вдруг вскочил, сел на диван и открыл глаза.\n",
      "\t He turned over his stout, well-cared-for person on the springy sofa, as though he would sink into a long sleep again; he vigorously embraced the pillow on the other side and buried his face in it; but all at once he jumped up, sat up on the sofa, and opened his eyes.\n",
      "\n",
      "«Да, да, как это было? — думал он, вспоминая сон.\n",
      "\t “Yes, yes, how was it now?” he thought, going over his dream.\n",
      "\n",
      "— Да, как это было?\n",
      "\t “Now, how was it?\n",
      "\n",
      "Да!\n",
      "\t To be sure!\n",
      "\n",
      "Алабин давал обед в Дармштадте; нет, не в Дармштадте, а что-то американское.\n",
      "\t Alabin was giving a dinner at Darmstadt; no, not Darmstadt, but something American.\n",
      "\n",
      "Да, но там Дармштадт был в Америке.\n",
      "\t Yes, but then, Darmstadt was in America.\n",
      "\n",
      "Да, Алабин давал обед на стеклянных столах, да, — и столы пели: Il mio tesoro 1 и не Il mio tesoro, а что-то лучше, и какие-то маленькие графинчики, и они же женщины», — вспоминал он.\n",
      "\t Yes, Alabin was giving a dinner on glass tables, and the tables sang, Il mio tesoro—not Il mio tesoro though, but something better, and there were some sort of little decanters on the table, and they were women, too,” he remembered.\n",
      "\n",
      "Глаза Степана Аркадьича весело заблестели, и он задумался, улыбаясь.\n",
      "\t Stepan Arkadyevitch’s eyes twinkled gaily, and he pondered with a smile.\n",
      "\n",
      "«Да, хорошо было, очень хорошо.\n",
      "\t “Yes, it was nice, very nice.\n",
      "\n",
      "И, заметив полосу света, пробившуюся сбоку одной из суконных стор, он весело скинул ноги с дивана, отыскал ими шитые женой (подарок ко дню рождения в прошлом году), обделанные в золотистый сафьян туфли, и по старой, девятилетней привычке, не вставая, потянулся рукой к тому месту, где в спальне у него висел халат.\n",
      "\t There was a great deal more that was delightful, only there’s no putting it into words, or even expressing it in one’s thoughts awake.” And noticing a gleam of light peeping in beside one of the serge curtains, he cheerfully dropped his feet over the edge of the sofa, and felt about with them for his slippers, a present on his last birthday, worked for him by his wife on gold-colored morocco. And, as he had done every day for the last nine years, he stretched out his hand, without getting up, towards the place where his dressing-gown always hung in his bedroom.\n",
      "\n",
      "И тут он вспомнил вдруг, как и почему он спит не в спальне жены, а в кабинете; улыбка исчезла с его лица, он сморщил лоб.\n",
      "\t And thereupon he suddenly remembered that he was not sleeping in his wife’s room, but in his study, and why: the smile vanished from his face, he knitted his brows.\n",
      "\n",
      "«Ах, ах, ах!\n",
      "\t “Ah, ah, ah!\n",
      "\n",
      "Ааа!..» — замычал он, вспоминая все, что было.\n",
      "\t Oo!...” he muttered, recalling everything that had happened.\n",
      "\n",
      "И его воображению представились опять все подробности ссоры с женою, вся безвыходность его положения и мучительнее всего собственная вина его.\n",
      "\t And again every detail of his quarrel with his wife was present to his imagination, all the hopelessness of his position, and worst of all, his own fault.\n",
      "\n",
      "она не простит и не может простить.\n",
      "\t “Yes, she won’t forgive me, and she can’t forgive me.\n",
      "\n",
      "И всего ужаснее то, что виной всему я, виной я, а не виноват.\n",
      "\t And the most awful thing about it is that it’s all my fault—all my fault, though I’m not to blame.\n",
      "\n",
      "В этом-то вся драма, — думал он.\n",
      "\t That’s the point of the whole situation,” he reflected.\n",
      "\n",
      "— Ах, ах, ах!» — приговаривал он с отчаянием, вспоминая самые тяжелые для себя впечатления из этой ссоры.\n",
      "\t “Oh, oh, oh!” he kept repeating in despair, as he remembered the acutely painful sensations caused him by this quarrel.\n",
      "\n",
      "Неприятнее всего была та первая минута, когда он, вернувшись из театра, веселый и довольный, с огромною грушей для жены в руке, не нашел жены в гостиной; к удивлению, не нашел ее и в кабинете и, наконец, увидал ее в спальне с несчастною, открывшею все, запиской в руке.\n",
      "\t Most unpleasant of all was the first minute when, on coming, happy and good-humored, from the theater, with a huge pear in his hand for his wife, he had not found his wife in the drawing-room, to his surprise had not found her in the study either, and saw her at last in her bedroom with the unlucky letter that revealed everything in her hand.\n",
      "\n",
      "Она, эта вечно озабоченная, и хлопотливая, и недалекая, какою он считал ее, Долли, неподвижно сидела с запиской в руке и с выражением ужаса, отчаяния и гнева смотрела на него.\n",
      "\t She, his Dolly, forever fussing and worrying over household details, and limited in her ideas, as he considered, was sitting perfectly still with the letter in her hand, looking at him with an expression of horror, despair, and indignation.\n",
      "\n",
      "— Что это?\n",
      "\t “What’s this?\n",
      "\n",
      "это? — спрашивала она, указывая на записку.\n",
      "\t this?” she asked, pointing to the letter.\n",
      "\n",
      "И при этом воспоминании, как это часто бывает, мучало Степана Аркадьича не столько самое событие, сколько то, как он ответил на эти слова жены.\n",
      "\t And at this recollection, Stepan Arkadyevitch, as is so often the case, was not so much annoyed at the fact itself as at the way in which he had met his wife’s words.\n",
      "\n",
      "С ним случилось в эту минуту то, что случается с людьми, когда они неожиданно уличены в чем-нибудь слишком постыдном.\n",
      "\t There happened to him at that instant what does happen to people when they are unexpectedly caught in something very disgraceful.\n",
      "\n",
      "Он не сумел приготовить свое лицо к тому положению, в которое он становился перед женой после открытия его вины.\n",
      "\t He did not succeed in adapting his face to the position in which he was placed towards his wife by the discovery of his fault.\n",
      "\n",
      "Вместо того чтоб оскорбиться, отрекаться, оправдываться, просить прощения, оставаться даже равнодушным — все было бы лучше того, что он сделал! — его лицо совершенно невольно («рефлексы головного мозга», — подумал Степан Аркадьич, который любил физиологию), совершенно невольно вдруг улыбнулось привычною, доброю и потому глупою улыбкой.\n",
      "\t Instead of being hurt, denying, defending himself, begging forgiveness, instead of remaining indifferent even—anything would have been better than what he did do—his face utterly involuntarily (reflex spinal action, reflected Stepan Arkadyevitch, who was fond of physiology)—utterly involuntarily assumed its habitual, good-humored, and therefore idiotic smile.\n",
      "\n",
      "Эту глупую улыбку он не мог простить себе.\n",
      "\t This idiotic smile he could not forgive himself.\n",
      "\n",
      "Увидав эту улыбку, Долли вздрогнула, как от физической боли, разразилась, со свойственною ей горячностью, потоком жестоких слов и выбежала из комнаты.\n",
      "\t Catching sight of that smile, Dolly shuddered as though at physical pain, broke out with her characteristic heat into a flood of cruel words, and rushed out of the room.\n",
      "\n",
      "С тех пор она не хотела видеть мужа.\n",
      "\t Since then she had refused to see her husband.\n",
      "\n",
      "«Всему виной эта глупая улыбка», — думал Степан Аркадьич.\n",
      "\t “It’s that idiotic smile that’s to blame for it all,” thought Stepan Arkadyevitch.\n",
      "\n",
      "«Но что ж делать?\n",
      "\t “But what’s to be done?\n",
      "\n",
      "что ж делать?» — с отчаянием говорил он себе и не находил ответа.\n",
      "\t What’s to be done?” he said to himself in despair, and found no answer.\n",
      "\n"
     ]
    }
   ],
   "source": [
    "for i in range(len(asource)):\n",
    "    print(asource[i])\n",
    "    print('\\t',atarget[i])\n",
    "    print()"
   ]
  },
  {
   "cell_type": "code",
   "execution_count": null,
   "metadata": {},
   "outputs": [],
   "source": []
  }
 ],
 "metadata": {
  "kernelspec": {
   "display_name": "Python 3",
   "language": "python",
   "name": "python3"
  },
  "language_info": {
   "codemirror_mode": {
    "name": "ipython",
    "version": 3
   },
   "file_extension": ".py",
   "mimetype": "text/x-python",
   "name": "python",
   "nbconvert_exporter": "python",
   "pygments_lexer": "ipython3",
   "version": "3.7.3"
  }
 },
 "nbformat": 4,
 "nbformat_minor": 2
}
